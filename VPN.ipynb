{
  "nbformat": 4,
  "nbformat_minor": 0,
  "metadata": {
    "colab": {
      "provenance": [],
      "authorship_tag": "ABX9TyMvY8oLdZBxJ4wYC654KySv",
      "include_colab_link": true
    },
    "kernelspec": {
      "name": "python3",
      "display_name": "Python 3"
    },
    "language_info": {
      "name": "python"
    }
  },
  "cells": [
    {
      "cell_type": "markdown",
      "metadata": {
        "id": "view-in-github",
        "colab_type": "text"
      },
      "source": [
        "<a href=\"https://colab.research.google.com/github/Estabnzm/Curso_de_Programacion/blob/main/VPN.ipynb\" target=\"_parent\"><img src=\"https://colab.research.google.com/assets/colab-badge.svg\" alt=\"Open In Colab\"/></a>"
      ]
    },
    {
      "cell_type": "code",
      "execution_count": null,
      "metadata": {
        "id": "xH_yTyBy0R4l"
      },
      "outputs": [],
      "source": []
    },
    {
      "cell_type": "markdown",
      "source": [
        "#¿Qué es el VPN?#\n",
        "#El VPN es una medida financiera  que permite  evaluar la viabilidad de un proyecto, calculando la diferencia entre el valor presente de los flujos de caja futuros y la inversión inicial. si el VPN es positivo, el proyecto es rentable; si es negativo, no lo es.\n",
        "\n"
      ],
      "metadata": {
        "id": "ntuqTTP24d4z"
      }
    },
    {
      "cell_type": "markdown",
      "source": [],
      "metadata": {
        "id": "Bgdn4Xpb5YXO"
      }
    },
    {
      "cell_type": "markdown",
      "source": [
        "\\[$$VPN = \\sum_{t=0}^{n} \\FR$$\\]"
      ],
      "metadata": {
        "id": "pKYBepxG5e4b"
      }
    },
    {
      "cell_type": "markdown",
      "source": [],
      "metadata": {
        "id": "Wb-H1AQS6Rf-"
      }
    },
    {
      "cell_type": "markdown",
      "source": [],
      "metadata": {
        "id": "KPnpsplU6asu"
      }
    },
    {
      "cell_type": "markdown",
      "source": [
        "\n",
        "\n",
        "*   $F_{\\text{t}}$=   Es el flujo de caja en el periodo tT\n",
        "*   $r_{\\text{r}}$=   Es la tasa de descuento\n",
        "*   $C_{\\text{0}}$ = Inversión inicial\n",
        "\n",
        "\n",
        "\n",
        "\n"
      ],
      "metadata": {
        "id": "mL7X2j9_6fOO"
      }
    },
    {
      "cell_type": "code",
      "source": [
        "inversion_inicial= 10000\n",
        "flujo_ano_1= 3000\n",
        "flujo_ano_2= 3000\n",
        "flujo_ano_3= 3000\n",
        "Tasa_descuento= 0.05\n",
        "print(inversion_inicial)\n",
        "print(flujo_ano_1)\n",
        "print(flujo_ano_2)\n",
        "print(flujo_ano_3)\n",
        "print(Tasa_descuento)\n"
      ],
      "metadata": {
        "colab": {
          "base_uri": "https://localhost:8080/"
        },
        "id": "kFZTzJs4-Cre",
        "outputId": "a5b0be79-9deb-46c4-98a4-e522b2d843f7"
      },
      "execution_count": 1,
      "outputs": [
        {
          "output_type": "stream",
          "name": "stdout",
          "text": [
            "10000\n",
            "3000\n",
            "3000\n",
            "3000\n",
            "0.05\n"
          ]
        }
      ]
    },
    {
      "cell_type": "code",
      "source": [
        "vpn= (flujo_ano_1/((1+Tasa_descuento)**1))+(flujo_ano_2/((1+Tasa_descuento)**2))+(flujo_ano_3/((1+Tasa_descuento)**3)) - inversion_inicial\n",
        "print(\"EL valor presente neto(VPN) es:\", vpn)"
      ],
      "metadata": {
        "colab": {
          "base_uri": "https://localhost:8080/"
        },
        "id": "b9rw-ueb_dD1",
        "outputId": "aeda8f4d-9ebc-41f9-f5e4-06f006f4d2b0"
      },
      "execution_count": 2,
      "outputs": [
        {
          "output_type": "stream",
          "name": "stdout",
          "text": [
            "EL valor presente neto(VPN) es: -1830.2559118885656\n"
          ]
        }
      ]
    },
    {
      "cell_type": "code",
      "source": [
        "if vpn > 0:\n",
        "  print(\"El proyecto es viable, ya que el VPN es positivo.\")\n",
        "else:\n",
        "  print(\"El proyecto no es viable, ya que el VPN es negativo\")"
      ],
      "metadata": {
        "colab": {
          "base_uri": "https://localhost:8080/"
        },
        "id": "N2ioKZr6AmY6",
        "outputId": "c7a94cc5-18df-4f4a-c683-3fbf2fecf608"
      },
      "execution_count": 3,
      "outputs": [
        {
          "output_type": "stream",
          "name": "stdout",
          "text": [
            "El proyecto no es viable, ya que el VPN es negativo\n"
          ]
        }
      ]
    },
    {
      "cell_type": "markdown",
      "source": [
        "#Conclusión: el VPN es negativo por tal motiv, no es recomendable#"
      ],
      "metadata": {
        "id": "4TWY5LTZBMQo"
      }
    },
    {
      "cell_type": "code",
      "source": [],
      "metadata": {
        "id": "RgvOM_YPAt5e"
      },
      "execution_count": null,
      "outputs": []
    }
  ]
}